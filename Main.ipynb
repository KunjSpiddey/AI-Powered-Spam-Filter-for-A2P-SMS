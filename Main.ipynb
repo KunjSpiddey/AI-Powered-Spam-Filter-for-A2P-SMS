{
 "cells": [
  {
   "cell_type": "code",
   "execution_count": null,
   "id": "988700df-ffb4-4ce6-885b-56b19c666bcf",
   "metadata": {},
   "outputs": [],
   "source": [
    "import pandas as pd\n",
    "import re\n",
    "import joblib\n",
    "import matplotlib.pyplot as plt\n",
    "import seaborn as sns\n",
    "import numpy as np\n",
    "import time\n",
    "\n",
    "from sklearn.model_selection import train_test_split, StratifiedKFold\n",
    "from sklearn.feature_extraction.text import TfidfVectorizer\n",
    "from sklearn.naive_bayes import MultinomialNB\n",
    "from sklearn.linear_model import LogisticRegression\n",
    "from sklearn.svm import LinearSVC\n",
    "from sklearn.metrics import (\n",
    "    accuracy_score, classification_report, confusion_matrix,\n",
    "    roc_auc_score\n",
    ")\n",
    "from sklearn.preprocessing import label_binarize"
   ]
  },
  {
   "cell_type": "markdown",
   "id": "f99c83d1-2990-4315-9ec4-d662bb502de3",
   "metadata": {},
   "source": [
    "## Load Dataset"
   ]
  },
  {
   "cell_type": "code",
   "execution_count": 14,
   "id": "88425034-c54f-4623-a035-d29197436ff8",
   "metadata": {},
   "outputs": [
    {
     "data": {
      "text/html": [
       "<div>\n",
       "<style scoped>\n",
       "    .dataframe tbody tr th:only-of-type {\n",
       "        vertical-align: middle;\n",
       "    }\n",
       "\n",
       "    .dataframe tbody tr th {\n",
       "        vertical-align: top;\n",
       "    }\n",
       "\n",
       "    .dataframe thead th {\n",
       "        text-align: right;\n",
       "    }\n",
       "</style>\n",
       "<table border=\"1\" class=\"dataframe\">\n",
       "  <thead>\n",
       "    <tr style=\"text-align: right;\">\n",
       "      <th></th>\n",
       "      <th>message</th>\n",
       "      <th>category</th>\n",
       "    </tr>\n",
       "  </thead>\n",
       "  <tbody>\n",
       "    <tr>\n",
       "      <th>0</th>\n",
       "      <td>Final notice. Update your info: https://verify...</td>\n",
       "      <td>Spam</td>\n",
       "    </tr>\n",
       "    <tr>\n",
       "      <th>1</th>\n",
       "      <td>Reset your password now at https://get-rich-fa...</td>\n",
       "      <td>Spam</td>\n",
       "    </tr>\n",
       "    <tr>\n",
       "      <th>2</th>\n",
       "      <td>Your transaction ID is TXN471861. Please keep ...</td>\n",
       "      <td>Transactional</td>\n",
       "    </tr>\n",
       "    <tr>\n",
       "      <th>3</th>\n",
       "      <td>Your package with tracking ID 162556 has been ...</td>\n",
       "      <td>Transactional</td>\n",
       "    </tr>\n",
       "    <tr>\n",
       "      <th>4</th>\n",
       "      <td>Earn money fast! Start today: https://login-no...</td>\n",
       "      <td>Spam</td>\n",
       "    </tr>\n",
       "  </tbody>\n",
       "</table>\n",
       "</div>"
      ],
      "text/plain": [
       "                                             message       category\n",
       "0  Final notice. Update your info: https://verify...           Spam\n",
       "1  Reset your password now at https://get-rich-fa...           Spam\n",
       "2  Your transaction ID is TXN471861. Please keep ...  Transactional\n",
       "3  Your package with tracking ID 162556 has been ...  Transactional\n",
       "4  Earn money fast! Start today: https://login-no...           Spam"
      ]
     },
     "execution_count": 14,
     "metadata": {},
     "output_type": "execute_result"
    }
   ],
   "source": [
    "df = pd.read_csv(\"data.csv\")\n",
    "df.columns = [\"message\", \"category\"]\n",
    "df.head()"
   ]
  },
  {
   "cell_type": "markdown",
   "id": "e1ceea6b-a9bc-445c-b363-0840b1889905",
   "metadata": {},
   "source": [
    "## Cleaning of Data"
   ]
  },
  {
   "cell_type": "code",
   "execution_count": 16,
   "id": "241e69e3-a9a6-4f5b-962c-2d50a8b7a4ba",
   "metadata": {},
   "outputs": [
    {
     "data": {
      "text/html": [
       "<div>\n",
       "<style scoped>\n",
       "    .dataframe tbody tr th:only-of-type {\n",
       "        vertical-align: middle;\n",
       "    }\n",
       "\n",
       "    .dataframe tbody tr th {\n",
       "        vertical-align: top;\n",
       "    }\n",
       "\n",
       "    .dataframe thead th {\n",
       "        text-align: right;\n",
       "    }\n",
       "</style>\n",
       "<table border=\"1\" class=\"dataframe\">\n",
       "  <thead>\n",
       "    <tr style=\"text-align: right;\">\n",
       "      <th></th>\n",
       "      <th>message</th>\n",
       "      <th>category</th>\n",
       "      <th>cleaned_message</th>\n",
       "      <th>category_numeric</th>\n",
       "    </tr>\n",
       "  </thead>\n",
       "  <tbody>\n",
       "    <tr>\n",
       "      <th>0</th>\n",
       "      <td>Final notice. Update your info: https://verify...</td>\n",
       "      <td>Spam</td>\n",
       "      <td>final notice update your info https verify now...</td>\n",
       "      <td>2</td>\n",
       "    </tr>\n",
       "    <tr>\n",
       "      <th>1</th>\n",
       "      <td>Reset your password now at https://get-rich-fa...</td>\n",
       "      <td>Spam</td>\n",
       "      <td>reset your password now at https get rich fast...</td>\n",
       "      <td>2</td>\n",
       "    </tr>\n",
       "    <tr>\n",
       "      <th>2</th>\n",
       "      <td>Your transaction ID is TXN471861. Please keep ...</td>\n",
       "      <td>Transactional</td>\n",
       "      <td>your transaction id is txn please keep it for ...</td>\n",
       "      <td>0</td>\n",
       "    </tr>\n",
       "    <tr>\n",
       "      <th>3</th>\n",
       "      <td>Your package with tracking ID 162556 has been ...</td>\n",
       "      <td>Transactional</td>\n",
       "      <td>your package with tracking id has been shipped</td>\n",
       "      <td>0</td>\n",
       "    </tr>\n",
       "    <tr>\n",
       "      <th>4</th>\n",
       "      <td>Earn money fast! Start today: https://login-no...</td>\n",
       "      <td>Spam</td>\n",
       "      <td>earn money fast start today https login now se...</td>\n",
       "      <td>2</td>\n",
       "    </tr>\n",
       "  </tbody>\n",
       "</table>\n",
       "</div>"
      ],
      "text/plain": [
       "                                             message       category  \\\n",
       "0  Final notice. Update your info: https://verify...           Spam   \n",
       "1  Reset your password now at https://get-rich-fa...           Spam   \n",
       "2  Your transaction ID is TXN471861. Please keep ...  Transactional   \n",
       "3  Your package with tracking ID 162556 has been ...  Transactional   \n",
       "4  Earn money fast! Start today: https://login-no...           Spam   \n",
       "\n",
       "                                     cleaned_message  category_numeric  \n",
       "0  final notice update your info https verify now...                 2  \n",
       "1  reset your password now at https get rich fast...                 2  \n",
       "2  your transaction id is txn please keep it for ...                 0  \n",
       "3     your package with tracking id has been shipped                 0  \n",
       "4  earn money fast start today https login now se...                 2  "
      ]
     },
     "execution_count": 16,
     "metadata": {},
     "output_type": "execute_result"
    }
   ],
   "source": [
    "def clean_message(msg):\n",
    "    if not isinstance(msg, str):\n",
    "        return \"\"\n",
    "    msg = msg.lower()\n",
    "    msg = re.sub(r\"[^a-zA-Z\\s]\", \" \", msg)\n",
    "    msg = re.sub(r\"\\s+\", \" \", msg).strip()\n",
    "    return msg\n",
    "\n",
    "# Remove duplicates & clean\n",
    "df.drop_duplicates(subset=\"message\", inplace=True)\n",
    "df[\"cleaned_message\"] = df[\"message\"].apply(clean_message)\n",
    "df = df[df[\"cleaned_message\"] != \"\"]\n",
    "\n",
    "# Map categories\n",
    "category_mapping = {\"transactional\": 0, \"promotional\": 1, \"spam\": 2}\n",
    "df[\"category_numeric\"] = df[\"category\"].str.lower().map(category_mapping)\n",
    "df.dropna(subset=[\"category_numeric\"], inplace=True)\n",
    "df[\"category_numeric\"] = df[\"category_numeric\"].astype(int)\n",
    "df.head()"
   ]
  },
  {
   "cell_type": "markdown",
   "id": "02661825-ef9c-4ffc-adf2-5a2f7165ca8c",
   "metadata": {},
   "source": [
    "## Save cleaned dataset"
   ]
  },
  {
   "cell_type": "code",
   "execution_count": 25,
   "id": "67f0959b-12d7-42f2-a90f-c0f3db94fee4",
   "metadata": {},
   "outputs": [
    {
     "data": {
      "text/html": [
       "<div>\n",
       "<style scoped>\n",
       "    .dataframe tbody tr th:only-of-type {\n",
       "        vertical-align: middle;\n",
       "    }\n",
       "\n",
       "    .dataframe tbody tr th {\n",
       "        vertical-align: top;\n",
       "    }\n",
       "\n",
       "    .dataframe thead th {\n",
       "        text-align: right;\n",
       "    }\n",
       "</style>\n",
       "<table border=\"1\" class=\"dataframe\">\n",
       "  <thead>\n",
       "    <tr style=\"text-align: right;\">\n",
       "      <th></th>\n",
       "      <th>message</th>\n",
       "      <th>category</th>\n",
       "      <th>cleaned_message</th>\n",
       "    </tr>\n",
       "  </thead>\n",
       "  <tbody>\n",
       "    <tr>\n",
       "      <th>0</th>\n",
       "      <td>Final notice. Update your info: https://verify...</td>\n",
       "      <td>Spam</td>\n",
       "      <td>final notice update your info https verify now...</td>\n",
       "    </tr>\n",
       "    <tr>\n",
       "      <th>1</th>\n",
       "      <td>Reset your password now at https://get-rich-fa...</td>\n",
       "      <td>Spam</td>\n",
       "      <td>reset your password now at https get rich fast...</td>\n",
       "    </tr>\n",
       "    <tr>\n",
       "      <th>2</th>\n",
       "      <td>Your transaction ID is TXN471861. Please keep ...</td>\n",
       "      <td>Transactional</td>\n",
       "      <td>your transaction id is txn please keep it for ...</td>\n",
       "    </tr>\n",
       "    <tr>\n",
       "      <th>3</th>\n",
       "      <td>Your package with tracking ID 162556 has been ...</td>\n",
       "      <td>Transactional</td>\n",
       "      <td>your package with tracking id has been shipped</td>\n",
       "    </tr>\n",
       "    <tr>\n",
       "      <th>4</th>\n",
       "      <td>Earn money fast! Start today: https://login-no...</td>\n",
       "      <td>Spam</td>\n",
       "      <td>earn money fast start today https login now se...</td>\n",
       "    </tr>\n",
       "  </tbody>\n",
       "</table>\n",
       "</div>"
      ],
      "text/plain": [
       "                                             message       category  \\\n",
       "0  Final notice. Update your info: https://verify...           Spam   \n",
       "1  Reset your password now at https://get-rich-fa...           Spam   \n",
       "2  Your transaction ID is TXN471861. Please keep ...  Transactional   \n",
       "3  Your package with tracking ID 162556 has been ...  Transactional   \n",
       "4  Earn money fast! Start today: https://login-no...           Spam   \n",
       "\n",
       "                                     cleaned_message  \n",
       "0  final notice update your info https verify now...  \n",
       "1  reset your password now at https get rich fast...  \n",
       "2  your transaction id is txn please keep it for ...  \n",
       "3     your package with tracking id has been shipped  \n",
       "4  earn money fast start today https login now se...  "
      ]
     },
     "execution_count": 25,
     "metadata": {},
     "output_type": "execute_result"
    }
   ],
   "source": [
    "df[[\"message\", \"category\", \"cleaned_message\"]].to_csv(\"labeled_dataset.csv\", index=False)\n",
    "ld = pd.read_csv('labeled_dataset.csv')\n",
    "ld.head()"
   ]
  },
  {
   "cell_type": "markdown",
   "id": "5170f4b0-6052-471e-a61c-db056655da64",
   "metadata": {},
   "source": [
    "## Check for train/test leakage "
   ]
  },
  {
   "cell_type": "code",
   "execution_count": null,
   "id": "8f5c5707-6c33-42a5-a2af-9fedc9838e56",
   "metadata": {},
   "outputs": [],
   "source": [
    "X = df[\"cleaned_message\"]\n",
    "y = df[\"category_numeric\"]\n",
    "X_train, X_test, y_train, y_test = train_test_split(\n",
    "    X, y, test_size=0.2, random_state=42, stratify=y\n",
    ")\n",
    "\n",
    "overlap = set(X_train) & set(X_test)\n"
   ]
  },
  {
   "cell_type": "markdown",
   "id": "4bab0ad6-cb55-45f4-9e8a-91e01aa0a851",
   "metadata": {},
   "source": [
    "## Feature Extraction"
   ]
  },
  {
   "cell_type": "code",
   "execution_count": 19,
   "id": "65b5153f-6f97-45ab-b34f-fa6adac60b21",
   "metadata": {},
   "outputs": [],
   "source": [
    "tfidf = TfidfVectorizer(max_features=3000)\n",
    "X_train_tfidf = tfidf.fit_transform(X_train)\n",
    "X_test_tfidf = tfidf.transform(X_test)"
   ]
  },
  {
   "cell_type": "markdown",
   "id": "4f1639a6-e5ca-4408-ab8b-56154959be88",
   "metadata": {},
   "source": [
    "## Models with class_weight / regularization"
   ]
  },
  {
   "cell_type": "code",
   "execution_count": 20,
   "id": "43e9e52d-e08d-4504-9e41-f4289fceae3e",
   "metadata": {},
   "outputs": [
    {
     "name": "stdout",
     "output_type": "stream",
     "text": [
      "\n",
      "🚀 Training: Naive Bayes\n",
      "5-Fold CV Accuracy: 0.9876\n",
      "Test Accuracy: 0.9893\n",
      "Classification Report:\n",
      "                precision    recall  f1-score   support\n",
      "\n",
      "transactional       1.00      0.99      0.99       804\n",
      "  promotional       0.69      1.00      0.82        20\n",
      "         spam       1.00      1.00      1.00        20\n",
      "\n",
      "     accuracy                           0.99       844\n",
      "    macro avg       0.90      1.00      0.94       844\n",
      " weighted avg       0.99      0.99      0.99       844\n",
      "\n"
     ]
    },
    {
     "data": {
      "image/png": "[encoded data removed]",
      "text/plain": [
       "<Figure size 500x400 with 2 Axes>"
      ]
     },
     "metadata": {},
     "output_type": "display_data"
    },
    {
     "name": "stdout",
     "output_type": "stream",
     "text": [
      "ROC-AUC Score: 0.9963139400086943\n",
      "✅ Naive Bayes model saved -> naive_bayes_model.pkl\n",
      "\n",
      "🚀 Training: Logistic Regression\n",
      "5-Fold CV Accuracy: 0.9896\n",
      "Test Accuracy: 0.9905\n",
      "Classification Report:\n",
      "                precision    recall  f1-score   support\n",
      "\n",
      "transactional       1.00      0.99      0.99       804\n",
      "  promotional       0.71      1.00      0.83        20\n",
      "         spam       1.00      1.00      1.00        20\n",
      "\n",
      "     accuracy                           0.99       844\n",
      "    macro avg       0.90      1.00      0.94       844\n",
      " weighted avg       0.99      0.99      0.99       844\n",
      "\n"
     ]
    },
    {
     "data": {
      "image/png": "[encoded data removed]",
      "text/plain": [
       "<Figure size 500x400 with 2 Axes>"
      ]
     },
     "metadata": {},
     "output_type": "display_data"
    },
    {
     "name": "stdout",
     "output_type": "stream",
     "text": [
      "ROC-AUC Score: 0.9967235022299507\n",
      "✅ Logistic Regression model saved -> logistic_regression_model.pkl\n",
      "\n",
      "🚀 Training: Linear SVM\n",
      "5-Fold CV Accuracy: 0.9997\n",
      "Test Accuracy: 1.0000\n",
      "Classification Report:\n",
      "                precision    recall  f1-score   support\n",
      "\n",
      "transactional       1.00      1.00      1.00       804\n",
      "  promotional       1.00      1.00      1.00        20\n",
      "         spam       1.00      1.00      1.00        20\n",
      "\n",
      "     accuracy                           1.00       844\n",
      "    macro avg       1.00      1.00      1.00       844\n",
      " weighted avg       1.00      1.00      1.00       844\n",
      "\n"
     ]
    },
    {
     "data": {
      "image/png": "[encoded data removed]",
      "text/plain": [
       "<Figure size 500x400 with 2 Axes>"
      ]
     },
     "metadata": {},
     "output_type": "display_data"
    },
    {
     "name": "stdout",
     "output_type": "stream",
     "text": [
      "ROC-AUC Score: 1.0\n",
      "✅ Linear SVM model saved -> linear_svm_model.pkl\n"
     ]
    }
   ],
   "source": [
    "models = {\n",
    "    \"Naive Bayes\": MultinomialNB(),\n",
    "    \"Logistic Regression\": LogisticRegression(max_iter=500, class_weight=\"balanced\"),\n",
    "    \"Linear SVM\": LinearSVC(max_iter=5000, class_weight=\"balanced\")\n",
    "}\n",
    "\n",
    "best_model = None\n",
    "best_acc = 0\n",
    "cv_results = []\n",
    "\n",
    "for name, model in models.items():\n",
    "    print(f\"\\n🚀 Training: {name}\")\n",
    "\n",
    "    # 5-fold Stratified CV\n",
    "    skf = StratifiedKFold(n_splits=5, shuffle=True, random_state=42)\n",
    "    cv_acc = []\n",
    "    for train_idx, val_idx in skf.split(X_train_tfidf, y_train):\n",
    "        model.fit(X_train_tfidf[train_idx], y_train.iloc[train_idx])\n",
    "        val_pred = model.predict(X_train_tfidf[val_idx])\n",
    "        cv_acc.append(accuracy_score(y_train.iloc[val_idx], val_pred))\n",
    "    mean_cv_acc = np.mean(cv_acc)\n",
    "    print(f\"5-Fold CV Accuracy: {mean_cv_acc:.4f}\")\n",
    "\n",
    "    # Train on full training set\n",
    "    model.fit(X_train_tfidf, y_train)\n",
    "    y_pred = model.predict(X_test_tfidf)\n",
    "    test_acc = accuracy_score(y_test, y_pred)\n",
    "    print(f\"Test Accuracy: {test_acc:.4f}\")\n",
    "    print(\"Classification Report:\\n\", classification_report(y_test, y_pred, target_names=category_mapping.keys()))\n",
    "\n",
    "    # Confusion Matrix Plot\n",
    "    cm = confusion_matrix(y_test, y_pred)\n",
    "    plt.figure(figsize=(5,4))\n",
    "    sns.heatmap(cm, annot=True, fmt=\"d\", xticklabels=category_mapping.keys(), yticklabels=category_mapping.keys(), cmap=\"Blues\")\n",
    "    plt.title(f\"Confusion Matrix - {name}\")\n",
    "    plt.xlabel(\"Predicted\")\n",
    "    plt.ylabel(\"Actual\")\n",
    "    plt.show()\n",
    "\n",
    "    # ROC-AUC\n",
    "    y_test_bin = label_binarize(y_test, classes=[0,1,2])\n",
    "    y_pred_bin = label_binarize(y_pred, classes=[0,1,2])\n",
    "    auc = roc_auc_score(y_test_bin, y_pred_bin, average=\"macro\")\n",
    "    print(\"ROC-AUC Score:\", auc)\n",
    "\n",
    "    # Save individual model\n",
    "    joblib.dump(model, f\"{name.replace(' ', '_').lower()}_model.pkl\")\n",
    "    print(f\"✅ {name} model saved -> {name.replace(' ', '_').lower()}_model.pkl\")\n",
    "\n",
    "    # Track best model\n",
    "    if test_acc > best_acc:\n",
    "        best_acc = test_acc\n",
    "        best_model = model\n",
    "\n",
    "    # Store for comparison\n",
    "    cv_results.append({\"Model\": name, \"CV Accuracy\": mean_cv_acc, \"Test Accuracy\": test_acc, \"ROC-AUC\": auc})"
   ]
  }
 ],
 "metadata": {
  "kernelspec": {
   "display_name": "Python 3 (ipykernel)",
   "language": "python",
   "name": "python3"
  },
  "language_info": {
   "codemirror_mode": {
    "name": "ipython",
    "version": 3
   },
   "file_extension": ".py",
   "mimetype": "text/x-python",
   "name": "python",
   "nbconvert_exporter": "python",
   "pygments_lexer": "ipython3",
   "version": "3.13.1"
  }
 },
 "nbformat": 4,
 "nbformat_minor": 5
}
